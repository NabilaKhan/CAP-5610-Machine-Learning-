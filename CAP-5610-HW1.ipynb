{
 "cells": [
  {
   "cell_type": "code",
   "execution_count": 408,
   "metadata": {},
   "outputs": [],
   "source": [
    "import pandas as pd\n",
    "import seaborn as sns\n",
    "import numpy as np\n",
    "import matplotlib.pyplot as plt\n",
    "import random\n",
    "from sklearn.impute import KNNImputer"
   ]
  },
  {
   "cell_type": "code",
   "execution_count": 409,
   "metadata": {},
   "outputs": [],
   "source": [
    "### Importing Data and Creating Dataframe\n",
    "train_df = pd.read_csv('input/train.csv')\n",
    "test_df = pd.read_csv('input/test.csv') "
   ]
  },
  {
   "cell_type": "code",
   "execution_count": 410,
   "metadata": {},
   "outputs": [
    {
     "name": "stdout",
     "output_type": "stream",
     "text": [
      "['PassengerId', 'Survived', 'Pclass', 'Name', 'Sex', 'Age', 'SibSp', 'Parch', 'Ticket', 'Fare', 'Cabin', 'Embarked']\n"
     ]
    }
   ],
   "source": [
    "### Q1, Q2, Q3, Q4\n",
    "print(list(train_df.columns))"
   ]
  },
  {
   "cell_type": "code",
   "execution_count": 411,
   "metadata": {},
   "outputs": [
    {
     "name": "stdout",
     "output_type": "stream",
     "text": [
      "['Age', 'Cabin', 'Embarked']\n",
      "['Age', 'Fare', 'Cabin']\n"
     ]
    }
   ],
   "source": [
    "### Q5\n",
    "train_missing = train_df.columns[train_df.isnull().any()].tolist()\n",
    "test_missing = test_df.columns[test_df.isnull().any()].tolist()\n",
    "\n",
    "print(train_missing)\n",
    "print(test_missing)"
   ]
  },
  {
   "cell_type": "code",
   "execution_count": 412,
   "metadata": {},
   "outputs": [
    {
     "name": "stdout",
     "output_type": "stream",
     "text": [
      "PassengerId      int64\n",
      "Survived         int64\n",
      "Pclass           int64\n",
      "Name            object\n",
      "Sex             object\n",
      "Age            float64\n",
      "SibSp            int64\n",
      "Parch            int64\n",
      "Ticket          object\n",
      "Fare           float64\n",
      "Cabin           object\n",
      "Embarked        object\n",
      "dtype: object\n"
     ]
    }
   ],
   "source": [
    "### Q6\n",
    "print(train_df.dtypes)"
   ]
  },
  {
   "cell_type": "code",
   "execution_count": 413,
   "metadata": {},
   "outputs": [
    {
     "name": "stdout",
     "output_type": "stream",
     "text": [
      "       PassengerId    Survived      Pclass         Age       SibSp  \\\n",
      "count   891.000000  891.000000  891.000000  714.000000  891.000000   \n",
      "mean    446.000000    0.383838    2.308642   29.699118    0.523008   \n",
      "std     257.353842    0.486592    0.836071   14.526497    1.102743   \n",
      "min       1.000000    0.000000    1.000000    0.420000    0.000000   \n",
      "25%     223.500000    0.000000    2.000000   20.125000    0.000000   \n",
      "50%     446.000000    0.000000    3.000000   28.000000    0.000000   \n",
      "75%     668.500000    1.000000    3.000000   38.000000    1.000000   \n",
      "max     891.000000    1.000000    3.000000   80.000000    8.000000   \n",
      "\n",
      "            Parch        Fare  \n",
      "count  891.000000  891.000000  \n",
      "mean     0.381594   32.204208  \n",
      "std      0.806057   49.693429  \n",
      "min      0.000000    0.000000  \n",
      "25%      0.000000    7.910400  \n",
      "50%      0.000000   14.454200  \n",
      "75%      0.000000   31.000000  \n",
      "max      6.000000  512.329200  \n"
     ]
    }
   ],
   "source": [
    "### Q7\n",
    "print(train_df.describe())\n",
    "train_df['Pclass'] = train_df['Pclass'].astype(\"object\")  \n",
    "train_df['Survived'] = train_df['Survived'].astype(\"object\") "
   ]
  },
  {
   "cell_type": "code",
   "execution_count": 414,
   "metadata": {},
   "outputs": [
    {
     "name": "stdout",
     "output_type": "stream",
     "text": [
      "        Survived  Pclass                               Name   Sex    Ticket  \\\n",
      "count        891     891                                891   891       891   \n",
      "unique         2       3                                891     2       681   \n",
      "top            0       3  Andersson, Miss. Sigrid Elisabeth  male  CA. 2343   \n",
      "freq         549     491                                  1   577         7   \n",
      "\n",
      "          Cabin Embarked  \n",
      "count       204      889  \n",
      "unique      147        3  \n",
      "top     B96 B98        S  \n",
      "freq          4      644  \n"
     ]
    }
   ],
   "source": [
    "### Q8\n",
    "print(train_df.describe(include='O'))"
   ]
  },
  {
   "cell_type": "code",
   "execution_count": 415,
   "metadata": {},
   "outputs": [
    {
     "name": "stdout",
     "output_type": "stream",
     "text": [
      "   Pclass  Survived\n",
      "0       1  0.629630\n",
      "1       2  0.472826\n",
      "2       3  0.242363\n"
     ]
    }
   ],
   "source": [
    "### Q9\n",
    "train_df['Pclass'] = train_df['Pclass'].astype(\"int32\")  \n",
    "train_df['Survived'] = train_df['Survived'].astype(\"int32\") \n",
    "print(train_df[['Pclass', 'Survived']].groupby(['Pclass'], as_index=False).mean().sort_values(by='Survived', ascending=False))"
   ]
  },
  {
   "cell_type": "code",
   "execution_count": 416,
   "metadata": {},
   "outputs": [
    {
     "name": "stdout",
     "output_type": "stream",
     "text": [
      "male      577\n",
      "female    314\n",
      "Name: Sex, dtype: int64\n"
     ]
    },
    {
     "data": {
      "text/plain": [
       "Survived  Sex   \n",
       "0         male      468\n",
       "          female     81\n",
       "1         female    233\n",
       "          male      109\n",
       "Name: Sex, dtype: int64"
      ]
     },
     "execution_count": 416,
     "metadata": {},
     "output_type": "execute_result"
    }
   ],
   "source": [
    "### Q10\n",
    "print(train_df['Sex'].value_counts())\n",
    "train_df.groupby('Survived')['Sex'].value_counts()"
   ]
  },
  {
   "cell_type": "code",
   "execution_count": 417,
   "metadata": {},
   "outputs": [
    {
     "data": {
      "image/png": "[encoded data removed]",
      "text/plain": [
       "<Figure size 432x216 with 2 Axes>"
      ]
     },
     "metadata": {
      "needs_background": "light"
     },
     "output_type": "display_data"
    }
   ],
   "source": [
    "### Q11\n",
    "grid = sns.FacetGrid(train_df, col=\"Survived\")\n",
    "grid.map(plt.hist, \"Age\", bins=20);"
   ]
  },
  {
   "cell_type": "code",
   "execution_count": 418,
   "metadata": {},
   "outputs": [
    {
     "data": {
      "image/png": "[encoded data removed]",
      "text/plain": [
       "<Figure size 432x648 with 6 Axes>"
      ]
     },
     "metadata": {
      "needs_background": "light"
     },
     "output_type": "display_data"
    }
   ],
   "source": [
    "### Q12\n",
    "grid = sns.FacetGrid(train_df, col=\"Survived\", row = \"Pclass\")\n",
    "grid.map(plt.hist, \"Age\", bins=20);"
   ]
  },
  {
   "cell_type": "code",
   "execution_count": 419,
   "metadata": {},
   "outputs": [
    {
     "data": {
      "image/png": "[encoded data removed]",
      "text/plain": [
       "<Figure size 432x648 with 6 Axes>"
      ]
     },
     "metadata": {
      "needs_background": "light"
     },
     "output_type": "display_data"
    }
   ],
   "source": [
    "### Q13\n",
    "grid = sns.FacetGrid(train_df, col=\"Survived\", row = \"Embarked\")\n",
    "grid.map(sns.barplot, \"Sex\", \"Fare\", order=[\"female\", \"male\"]);"
   ]
  },
  {
   "cell_type": "code",
   "execution_count": 420,
   "metadata": {},
   "outputs": [
    {
     "name": "stdout",
     "output_type": "stream",
     "text": [
      "687\n",
      "327\n"
     ]
    }
   ],
   "source": [
    "### Q14, Q15\n",
    "print(train_df[\"Cabin\"].isnull().sum())\n",
    "print(test_df[\"Cabin\"].isnull().sum())\n",
    "\n",
    "### train_df = train_df.drop(['Ticket', 'Cabin'], axis=1) "
   ]
  },
  {
   "cell_type": "code",
   "execution_count": 421,
   "metadata": {},
   "outputs": [
    {
     "name": "stdout",
     "output_type": "stream",
     "text": [
      "0      0\n",
      "1      1\n",
      "2      1\n",
      "3      1\n",
      "4      0\n",
      "      ..\n",
      "886    0\n",
      "887    1\n",
      "888    1\n",
      "889    0\n",
      "890    0\n",
      "Name: Gender, Length: 891, dtype: int32\n",
      "0        male\n",
      "1      female\n",
      "2      female\n",
      "3      female\n",
      "4        male\n",
      "        ...  \n",
      "886      male\n",
      "887    female\n",
      "888    female\n",
      "889      male\n",
      "890      male\n",
      "Name: Sex, Length: 891, dtype: object\n"
     ]
    }
   ],
   "source": [
    "### Q16\n",
    "gender_map = {'female':1, 'male':0}\n",
    "train_df['Gender'] = train_df['Sex'].map(gender_map).astype('int32')\n",
    "train_df.astype({'Gender': 'int32'}).dtypes\n",
    "# print(train_df['Gender'].head())\n",
    "print(train_df['Gender'])\n",
    "print(train_df['Sex'])"
   ]
  },
  {
   "cell_type": "code",
   "execution_count": 422,
   "metadata": {},
   "outputs": [
    {
     "name": "stdout",
     "output_type": "stream",
     "text": [
      "0    22.0\n",
      "1    38.0\n",
      "2    26.0\n",
      "3    35.0\n",
      "4    35.0\n",
      "5     NaN\n",
      "6    54.0\n",
      "7     2.0\n",
      "8    27.0\n",
      "9    14.0\n",
      "Name: Age, dtype: float64\n",
      "0    22.000\n",
      "1    38.000\n",
      "2    26.000\n",
      "3    35.000\n",
      "4    35.000\n",
      "5    22.684\n",
      "6    54.000\n",
      "7     2.000\n",
      "8    27.000\n",
      "9    14.000\n",
      "Name: Age, dtype: float64\n"
     ]
    }
   ],
   "source": [
    "### Q17\n",
    "print(train_df.iloc[0:10, 5])\n",
    "\n",
    "### Updating missing values in 'Age' generating random numbers between mean and standard\n",
    "# Age_mean = train_df['Age'].mean()\n",
    "# Age_std = train_df['Age'].std()\n",
    "# train_df['Age'] = train_df['Age'].fillna(random.uniform(Age_mean - Age_std, Age_mean + Age_std))\n",
    "# print(train_df.iloc[0:10, 5])\n",
    "\n",
    "\n",
    "### Updating missing values in 'Age' using K-Nearest Neighbor algorithm\n",
    "imputer = KNNImputer(n_neighbors=5)\n",
    "imputed_train_df = train_df.filter(['Age','Fare'], axis=1)\n",
    "imputed_train_df = pd.DataFrame(imputer.fit_transform(imputed_train_df),columns = imputed_train_df.columns) \n",
    "print(imputed_train_df.iloc[0:10, 0])\n",
    "    "
   ]
  },
  {
   "cell_type": "code",
   "execution_count": 423,
   "metadata": {},
   "outputs": [
    {
     "name": "stdout",
     "output_type": "stream",
     "text": [
      "55      S\n",
      "56      S\n",
      "57      C\n",
      "58      S\n",
      "59      S\n",
      "60      C\n",
      "61    NaN\n",
      "62      S\n",
      "63      S\n",
      "64      C\n",
      "Name: Embarked, dtype: object\n",
      "55    S\n",
      "56    S\n",
      "57    C\n",
      "58    S\n",
      "59    S\n",
      "60    C\n",
      "61    S\n",
      "62    S\n",
      "63    S\n",
      "64    C\n",
      "Name: Embarked, dtype: object\n"
     ]
    }
   ],
   "source": [
    "### Q18\n",
    "print(train_df.iloc[55:65, 11])\n",
    "\n",
    "Freq_embarked = train_df.Embarked.dropna().mode()[0]\n",
    "train_df['Embarked'] = train_df['Embarked'].fillna(Freq_embarked)\n",
    "\n",
    "print(train_df.iloc[55:65, 11])"
   ]
  },
  {
   "cell_type": "code",
   "execution_count": 424,
   "metadata": {},
   "outputs": [
    {
     "name": "stdout",
     "output_type": "stream",
     "text": [
      "150     83.1583\n",
      "151      7.8958\n",
      "152         NaN\n",
      "153     12.1833\n",
      "154     31.3875\n",
      "155      7.5500\n",
      "156    221.7792\n",
      "157      7.8542\n",
      "158     26.5500\n",
      "159     13.7750\n",
      "Name: Fare, dtype: float64\n",
      "150     83.1583\n",
      "151      7.8958\n",
      "152     14.4542\n",
      "153     12.1833\n",
      "154     31.3875\n",
      "155      7.5500\n",
      "156    221.7792\n",
      "157      7.8542\n",
      "158     26.5500\n",
      "159     13.7750\n",
      "Name: Fare, dtype: float64\n"
     ]
    }
   ],
   "source": [
    "### Q19\n",
    "### Train dataset\n",
    "train_df['Fare'].fillna(train_df['Fare'].dropna().median(), inplace=True)\n",
    "\n",
    "\n",
    "### Test dataset\n",
    "print(test_df.iloc[150:160, 8])\n",
    "test_df['Fare'].fillna(test_df['Fare'].dropna().median(), inplace=True)\n",
    "print(test_df.iloc[150:160, 8])"
   ]
  },
  {
   "cell_type": "code",
   "execution_count": 425,
   "metadata": {},
   "outputs": [
    {
     "name": "stdout",
     "output_type": "stream",
     "text": [
      "0     7.2500\n",
      "1    71.2833\n",
      "2     7.9250\n",
      "3    53.1000\n",
      "4     8.0500\n",
      "5     8.4583\n",
      "6    51.8625\n",
      "7    21.0750\n",
      "8    11.1333\n",
      "9    30.0708\n",
      "Name: Fare, dtype: float64\n",
      "0    0\n",
      "1    3\n",
      "2    1\n",
      "3    3\n",
      "4    1\n",
      "5    1\n",
      "6    3\n",
      "7    2\n",
      "8    1\n",
      "9    2\n",
      "Name: Fare, dtype: int32\n"
     ]
    }
   ],
   "source": [
    "### Q20\n",
    "print(train_df.iloc[0:10, 9])\n",
    "\n",
    "for index, row in train_df.iterrows():\n",
    "#     print(index, row['Fare'])\n",
    "    if(row['Fare'] > -0.001 and row['Fare'] <= 7.91):\n",
    "        train_df.loc[index, 'Fare'] = 0\n",
    "    elif(row['Fare'] > 7.91 and row['Fare'] <= 14.454):\n",
    "        train_df.loc[index, 'Fare'] = 1\n",
    "    elif(row['Fare'] > 14.454 and row['Fare'] <= 31):\n",
    "        train_df.loc[index, 'Fare'] = 2\n",
    "    elif(row['Fare'] > 31 and row['Fare'] <= 512.329):\n",
    "        train_df.loc[index, 'Fare'] = 3\n",
    "    \n",
    "train_df['Fare'] = train_df['Fare'].astype(int)        \n",
    "print(train_df.iloc[0:10, 9])\n"
   ]
  },
  {
   "cell_type": "code",
   "execution_count": null,
   "metadata": {},
   "outputs": [],
   "source": []
  }
 ],
 "metadata": {
  "kernelspec": {
   "display_name": "Python 3",
   "language": "python",
   "name": "python3"
  },
  "language_info": {
   "codemirror_mode": {
    "name": "ipython",
    "version": 3
   },
   "file_extension": ".py",
   "mimetype": "text/x-python",
   "name": "python",
   "nbconvert_exporter": "python",
   "pygments_lexer": "ipython3",
   "version": "3.7.6"
  }
 },
 "nbformat": 4,
 "nbformat_minor": 4
}
