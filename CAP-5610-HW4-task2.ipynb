{
 "cells": [
  {
   "cell_type": "code",
   "execution_count": 1113,
   "metadata": {},
   "outputs": [],
   "source": [
    "import numpy as np\n",
    "import pandas as pd\n",
    "from copy import deepcopy\n",
    "\n",
    "import sklearn\n",
    "from sklearn import metrics\n",
    "from scipy import stats\n",
    "from sklearn.metrics import accuracy_score\n",
    "\n",
    "from collections import Counter\n",
    "import time\n",
    "from sklearn.metrics.pairwise import cosine_similarity"
   ]
  },
  {
   "cell_type": "code",
   "execution_count": 1114,
   "metadata": {},
   "outputs": [],
   "source": [
    "def manhattan(a, b, ax=1):\n",
    "    return np.sum(np.abs(a-b), axis=ax)\n",
    "\n",
    "def euclidean(a, b, ax=1):\n",
    "    return np.sum((a-b)**2, axis=ax)\n",
    "\n",
    "def cosine(a,b, ax=1):\n",
    "    val = 1- np.dot(a,b.T) /(np.linalg.norm(a))*np.sum(np.linalg.norm(b))\n",
    "    return val\n",
    "        \n",
    "def jaccard(a, b, ax=1):\n",
    "    return (1-np.sum(np.minimum(a,b),axis=ax)/np.sum(np.maximum(a,b),axis=ax))"
   ]
  },
  {
   "cell_type": "code",
   "execution_count": 1115,
   "metadata": {},
   "outputs": [],
   "source": [
    "def SSE(datapoints, clusters, centroids, distance=euclidean):\n",
    "    SSE_Val = 0\n",
    "    for i, centroid in enumerate(centroids):\n",
    "       SSE_Val += np.sum(distance(datapoints[np.where(clusters==i)], centroid))\n",
    "    return SSE_Val"
   ]
  },
  {
   "cell_type": "code",
   "execution_count": 1116,
   "metadata": {},
   "outputs": [],
   "source": [
    "def predict(clusters, y, k=3):\n",
    "    indexes = []\n",
    "    for i in range(k):\n",
    "        indexes.append(np.where(clusters == i))\n",
    "    for cluster in indexes:\n",
    "        mode = int(stats.mode(y[cluster])[0])\n",
    "        clusters[cluster] = mode        \n",
    "    return clusters"
   ]
  },
  {
   "cell_type": "code",
   "execution_count": 1117,
   "metadata": {},
   "outputs": [],
   "source": [
    "def Kmeans(datapoints, centroid, K, distance, max_iter):\n",
    "    \n",
    "    print(\"Distance Metric:\", distance)\n",
    "    np.random.seed(99)\n",
    "    \n",
    "    ### Initializing centroid\n",
    "    if centroid is None:\n",
    "        centroid = datapoints[np.random.choice(len(datapoints), size=K, replace=False)]\n",
    "    \n",
    "    prev_centroid = np.ones(centroid.shape)\n",
    "    \n",
    "    ### Cluster Lables(0, 1, 2)\n",
    "    clusters = np.zeros(len(datapoints))\n",
    "   \n",
    "    ### Distance between new centroids and old centroids \n",
    "    error = distance_type[distance](centroid, prev_centroid, None)\n",
    "    error = np.array(error)\n",
    "\n",
    "    count = 1\n",
    "    prev_sse = 0\n",
    "    curr_sse = 0\n",
    "    \n",
    "    ### Kmeans will iterate till the error becomes zero (no change in centroids anymore)\n",
    "    ### Comment out this while loop condition and set \"while True\" for the condition \"When the maximum preset value (100) of iteration is complete\"\n",
    "    while error.any() != 0:\n",
    "#     while True:\n",
    "        # Assigning each value to its closest cluster\n",
    "        for i in range(len(datapoints)):\n",
    "            distances = distance_type[distance](datapoints[i], centroid)\n",
    "            cluster = np.argmin([distances])\n",
    "            clusters[i] = cluster\n",
    "                      \n",
    "        # Storing the old centroid values\n",
    "        prev_centroid = deepcopy(centroid)\n",
    "        curr_sse = SSE(datapoints, clusters, centroid)\n",
    "        print('Iteration: {}'.format(count))\n",
    "        print('Current SSE: {}'.format(curr_sse))\n",
    "        print('Previous SSE: {}'.format(prev_sse))\n",
    "\n",
    "        # Finding the new centroids by taking the average value\n",
    "        for i in range(K):\n",
    "            points = [datapoints[j] for j in range(len(datapoints)) if clusters[j] == i]\n",
    "            centroid[i] = np.mean(points, axis=0)\n",
    "\n",
    "        error_old = deepcopy(error)\n",
    "        error = distance_type[distance](centroid, prev_centroid, None)\n",
    "\n",
    "        ### Comment this out for the condition \"When the maximum preset value (100) of iteration is complete\"\n",
    "        if count > 0:\n",
    "            if np.sum(error_old) == np.sum(error):\n",
    "                print('breaks')\n",
    "                break\n",
    "        if count > max_iter+1:\n",
    "            break\n",
    "        count = count + 1\n",
    "        prev_sse = curr_sse\n",
    "    return clusters, count"
   ]
  },
  {
   "cell_type": "code",
   "execution_count": 1118,
   "metadata": {},
   "outputs": [],
   "source": [
    "### For 'Euclidean' distance Metric\n",
    "def euclidean_dist(df, datapoints):\n",
    "    clusters, count = Kmeans(datapoints, centroid=None, K=3, distance='euclidean', max_iter= 100)\n",
    "    print(\"Max Iteration Required: \", count)\n",
    "    \n",
    "    ### Print Max Vote for each cluster\n",
    "#     print(Counter(clusters).keys()) \n",
    "#     print(Counter(clusters).values()) \n",
    "\n",
    "    pred_val = predict(clusters, df['Class'].values)\n",
    "    print(\"Accuracy: \", sklearn.metrics.accuracy_score(df['Class'].values, pred_val))  \n"
   ]
  },
  {
   "cell_type": "code",
   "execution_count": 1119,
   "metadata": {},
   "outputs": [],
   "source": [
    "### For 'Cosine' distance Metric'\n",
    "def cosine_dist(df, datapoints):\n",
    "    clusters, count = Kmeans(datapoints, centroid=None, K=3, distance='cosine', max_iter= 100)\n",
    "    print(\"Max Iteration Required: \", count)\n",
    "    \n",
    "    ### Print Max Vote for each cluster\n",
    "#     print(Counter(clusters).keys()) \n",
    "#     print(Counter(clusters).values()) \n",
    "\n",
    "    print(\"Accuracy: \", sklearn.metrics.accuracy_score(df['Class'].values, clusters))"
   ]
  },
  {
   "cell_type": "code",
   "execution_count": 1120,
   "metadata": {},
   "outputs": [],
   "source": [
    "### For 'Jaccard' distance Metric\n",
    "def jaccard_dist(df, datapoints):\n",
    "    clusters, count = Kmeans(datapoints, centroid=None, K=3, distance='jaccard', max_iter= 100)\n",
    "    print(\"Max Iteration Required: \", count)\n",
    "    \n",
    "    ### Print Max Vote for each cluster\n",
    "#     print(Counter(clusters).keys()) \n",
    "#     print(Counter(clusters).values()) \n",
    "\n",
    "    pred_val = predict(clusters, df['Class'].values)\n",
    "    print(\"Accuracy: \", sklearn.metrics.accuracy_score(df['Class'].values, pred_val))"
   ]
  },
  {
   "cell_type": "code",
   "execution_count": 1121,
   "metadata": {},
   "outputs": [],
   "source": [
    "if __name__ == '__main__':\n",
    "    \n",
    "    \n",
    "    distance_type = {\n",
    "        'manhattan': manhattan,\n",
    "        'euclidean': euclidean,\n",
    "        'cosine': cosine,\n",
    "        'jaccard': jaccard\n",
    "    }\n",
    "    \n",
    "#     main()\n",
    "\n",
    "    df = pd.read_csv(\"iris.data\", sep=\",\", names=['Sepal_Length', 'Sepal_Width', 'Petal_Length', 'Petal_Width', 'Class'])\n",
    "    \n",
    "#     print(df.head())\n",
    "#     print(df['Class'].unique())\n",
    "    \n",
    "    ### Converting String values of Column 'Class' to Numerical ['Iris-setosa':0, 'Iris-versicolor':1, 'Iris-virginica':2]\n",
    "    class_map = {'Iris-setosa':0, 'Iris-versicolor':1, 'Iris-virginica':2}\n",
    "    df['Class'] = df['Class'].map(class_map).astype('int32')\n",
    "    \n",
    "    datapoints = df[df.columns[:-1]].values\n",
    "    \n"
   ]
  },
  {
   "cell_type": "code",
   "execution_count": 1122,
   "metadata": {},
   "outputs": [
    {
     "name": "stdout",
     "output_type": "stream",
     "text": [
      "Distance Metric: euclidean\n",
      "Iteration: 1\n",
      "Current SSE: 133.26\n",
      "Previous SSE: 0\n",
      "Iteration: 2\n",
      "Current SSE: 79.13199166666668\n",
      "Previous SSE: 133.26\n",
      "Iteration: 3\n",
      "Current SSE: 78.940841426146\n",
      "Previous SSE: 79.13199166666668\n",
      "Max Iteration Required:  4\n",
      "Accuracy:  0.8933333333333333\n",
      "Time Esapsed:  0.014958620071411133\n"
     ]
    }
   ],
   "source": [
    "    start = time.time()\n",
    "    euclidean_dist(df, datapoints)\n",
    "    end = time.time()\n",
    "    print(\"Time Esapsed: \", end-start)\n",
    "##### For 'Euclidean' distance Metric #####"
   ]
  },
  {
   "cell_type": "code",
   "execution_count": 1123,
   "metadata": {},
   "outputs": [],
   "source": [
    "#     start = time.time()\n",
    "#     cosine_dist(df, datapoints)\n",
    "#     end = time.time()\n",
    "#     print(\"Time Esapsed: \", end-start)\n",
    "##### For 'Cosine' distance Metric' #####"
   ]
  },
  {
   "cell_type": "code",
   "execution_count": 1124,
   "metadata": {},
   "outputs": [],
   "source": [
    "#     start = time.time()\n",
    "#     jaccard_dist(df, datapoints)\n",
    "#     end = time.time()\n",
    "#     print(\"Time Esapsed: \", end-start)\n",
    "##### For 'Jaccard' distance Metric #####"
   ]
  },
  {
   "cell_type": "code",
   "execution_count": null,
   "metadata": {},
   "outputs": [],
   "source": []
  }
 ],
 "metadata": {
  "kernelspec": {
   "display_name": "Python 3",
   "language": "python",
   "name": "python3"
  },
  "language_info": {
   "codemirror_mode": {
    "name": "ipython",
    "version": 3
   },
   "file_extension": ".py",
   "mimetype": "text/x-python",
   "name": "python",
   "nbconvert_exporter": "python",
   "pygments_lexer": "ipython3",
   "version": "3.7.6"
  }
 },
 "nbformat": 4,
 "nbformat_minor": 4
}
